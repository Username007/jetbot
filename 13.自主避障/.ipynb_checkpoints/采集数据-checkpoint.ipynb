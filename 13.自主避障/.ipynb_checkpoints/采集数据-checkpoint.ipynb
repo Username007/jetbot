{
 "cells": [
  {
   "cell_type": "markdown",
   "metadata": {},
   "source": [
    "<center><img src=\"../图片数据/logo.png\" alt=\"Header\" style=\"width: 800px;\"/></center>"
   ]
  },
  {
   "cell_type": "markdown",
   "metadata": {},
   "source": [
    "@Copyright (C): 2010-2019, Shenzhen Yahboom Tech  \n",
    "@Author: Malloy.Yuan  \n",
    "@Date: 2019-07-17 10:10:02  \n",
    "@LastEditors: Malloy.Yuan  \n",
    "@LastEditTime: 2019-09-17 17:54:19  "
   ]
  },
  {
   "cell_type": "markdown",
   "metadata": {},
   "source": [
    "# 实时显示摄像头\n",
    "那么，我们就开始了。首先，让我们像在notebook中初始化摄像头，并显示所看到的画面。\n",
    "\n",
    "我们的神经网络采用224×224像素的图像作为输入。因此我们将摄像头设置为该大小，以最小化文件大小，而最小化数据集。（我们已经通过测试此像素适用于此任务） 在某些情况下，收集数据时最好用较大的图像尺寸，然后做处理的时候缩小到需要的大小。"
   ]
  },
  {
   "cell_type": "code",
   "execution_count": null,
   "metadata": {
    "scrolled": true
   },
   "outputs": [],
   "source": [
    "import traitlets\n",
    "import ipywidgets.widgets as widgets\n",
    "from IPython.display import display\n",
    "from jetbot import Camera, bgr8_to_jpeg\n",
    "\n",
    "camera = Camera.instance(width=224, height=224)\n",
    "\n",
    "image = widgets.Image(format='jpeg', width=224, height=224)  # this width and height doesn't necessarily have to match the camera\n",
    "\n",
    "camera_link = traitlets.dlink((camera, 'value'), (image, 'value'), transform=bgr8_to_jpeg)\n",
    "\n",
    "display(image)"
   ]
  },
  {
   "cell_type": "markdown",
   "metadata": {},
   "source": [
    "运行完上面的代码块后，就可以实时的看到摄像头拍摄到的画面。\n",
    "\n",
    "接下来让我们创建一些目录存储数据。我们将会建立一个叫dataset的文件夹，里面有两个子文件夹，分别是 free和blocked，用于分类放置每一个场景的图片。"
   ]
  },
  {
   "cell_type": "code",
   "execution_count": null,
   "metadata": {},
   "outputs": [],
   "source": [
    "import os\n",
    "\n",
    "blocked_dir = 'dataset/blocked'\n",
    "free_dir = 'dataset/free'\n",
    "\n",
    "# we have this \"try/except\" statement because these next functions can throw an error if the directories exist already\n",
    "try:\n",
    "    os.makedirs(free_dir)\n",
    "    os.makedirs(blocked_dir)\n",
    "except FileExistsError:\n",
    "    print('Directories not created becasue they already exist')"
   ]
  },
  {
   "cell_type": "markdown",
   "metadata": {},
   "source": [
    "如果刷新左边的Jupyter文件浏览器，现在应该可以看到这些目录出现了。接下来，让我们创建并显示一些按钮，这些按钮将用于为每个类标签保存快照。我们还将添加一些文本框，它们将显示到目前为止我们收集的每个类别的图像数量。这是有用的，因为我们想要确保我们收集的“free”图片和“block”图片一样多。它还有助于了解我们总共收集了多少图片。"
   ]
  },
  {
   "cell_type": "code",
   "execution_count": null,
   "metadata": {},
   "outputs": [],
   "source": [
    "button_layout = widgets.Layout(width='128px', height='64px')\n",
    "free_button = widgets.Button(description='add free', button_style='success', layout=button_layout)\n",
    "blocked_button = widgets.Button(description='add blocked', button_style='danger', layout=button_layout)\n",
    "free_count = widgets.IntText(layout=button_layout, value=len(os.listdir(free_dir)))\n",
    "blocked_count = widgets.IntText(layout=button_layout, value=len(os.listdir(blocked_dir)))\n",
    "\n",
    "display(widgets.HBox([free_count, free_button]))\n",
    "display(widgets.HBox([blocked_count, blocked_button]))"
   ]
  },
  {
   "cell_type": "markdown",
   "metadata": {},
   "source": [
    "现在，这些按钮什么也做不了。我们必须附加上功能函数，以保存图像为每个类别的按钮''n_click ''。我们将保存'' Image ''部件(而不是相机)的值，因为它已经是压缩的JPEG格式!\n",
    "为了确保不会重复任何文件名(即使是在不同的机器上!)，我们将使用python中的'' uuid ''包，它定义了'' uuid1 ''方法来生成唯一标识符。这个惟一标识符由当前时间和机器地址等信息生成。"
   ]
  },
  {
   "cell_type": "code",
   "execution_count": null,
   "metadata": {},
   "outputs": [],
   "source": [
    "from uuid import uuid1\n",
    "\n",
    "def save_snapshot(directory):\n",
    "    image_path = os.path.join(directory, str(uuid1()) + '.jpg')\n",
    "    with open(image_path, 'wb') as f:\n",
    "        f.write(image.value)\n",
    "\n",
    "def save_free():\n",
    "    global free_dir, free_count\n",
    "    save_snapshot(free_dir)\n",
    "    free_count.value = len(os.listdir(free_dir))\n",
    "    \n",
    "def save_blocked():\n",
    "    global blocked_dir, blocked_count\n",
    "    save_snapshot(blocked_dir)\n",
    "    blocked_count.value = len(os.listdir(blocked_dir))\n",
    "    \n",
    "# attach the callbacks, we use a 'lambda' function to ignore the\n",
    "# parameter that the on_click event would provide to our function\n",
    "# because we don't need it.\n",
    "free_button.on_click(lambda x: save_free())\n",
    "blocked_button.on_click(lambda x: save_blocked())"
   ]
  },
  {
   "cell_type": "markdown",
   "metadata": {},
   "source": [
    "现在上面的按钮已经可以将图像保存到“free”和“blocked”目录中。您可以使用Jupyter左边目录文件浏览器来查看这些文件!\n",
    "现在继续收集一些数据\n",
    "1. 将机器人放置在一个它被阻塞的场景中，然后按“add blocked”\n",
    "2. 将机器人放置在一个自由的场景中，然后按“add free”\n",
    "3. 重复1、2\n",
    ">提醒:您可以通过右键单击单元格并单击“Create new View for Output”将小部件移动到新窗口。\n",
    "下面是一些标记数据的技巧\n",
    "1. 尝试不同的方向\n",
    "2. 尝试不同的照明\n",
    "3. 尝试不同的对象/冲突类型;墙壁,岩架,对象\n",
    "4. 尝试不同纹理的地板/物体;有图案的、光滑的、玻璃的等。\n",
    "我们拥有的机器人在现实世界中遇到的场景数据越多，\n",
    "\n",
    "我们的避碰行为就会越好。获取多种数据(如上面的技巧所述)是很重要的，而不仅仅是大量的数据，而且可能需要每个类至少100张图像(这不是科学，只是一个有用的技巧)。但是别担心，一旦你开始做了，它就会变得很快\n",
    "\n",
    "运行下面单元格代码后就会显示图像和按钮,你就可以开始采集数据了"
   ]
  },
  {
   "cell_type": "code",
   "execution_count": null,
   "metadata": {},
   "outputs": [],
   "source": [
    "display(image)\n",
    "display(widgets.HBox([free_count, free_button]))\n",
    "display(widgets.HBox([blocked_count, blocked_button]))"
   ]
  },
  {
   "cell_type": "markdown",
   "metadata": {},
   "source": [
    "当你收集足够的数据的时候，我们需要把这些数据复制到我们的GPU平台上进行训练。首先，我们可以调用terminal（命令行模式又或者叫终端）命令，进行数据打包压缩成一个*.zip文件。\n",
    "\n",
    "! 表示我们要将使用shell命令运行 -r 表示包含所有包含子文件夹文件。-q 表示zip命令不输出任何信息\n",
    "\n",
    "但是我们的Jetbot足够强大,我们就算在Jetbot训练也不用等太久,所以我们直接去下一个例程训练神经网络模型吧"
   ]
  },
  {
   "cell_type": "code",
   "execution_count": null,
   "metadata": {},
   "outputs": [],
   "source": [
    "!zip -r -q dataset.zip dataset"
   ]
  },
  {
   "cell_type": "markdown",
   "metadata": {},
   "source": [
    "运行完上面单元格内代码时,在Jupyter Lab文件浏览器中看到名为dataset.zip的文件。你可以右键点击该文件进行下载操作。"
   ]
  }
 ],
 "metadata": {
  "kernelspec": {
   "display_name": "Python 3",
   "language": "python",
   "name": "python3"
  },
  "language_info": {
   "codemirror_mode": {
    "name": "ipython",
    "version": 3
   },
   "file_extension": ".py",
   "mimetype": "text/x-python",
   "name": "python",
   "nbconvert_exporter": "python",
   "pygments_lexer": "ipython3",
   "version": "3.6.8"
  }
 },
 "nbformat": 4,
 "nbformat_minor": 2
}
