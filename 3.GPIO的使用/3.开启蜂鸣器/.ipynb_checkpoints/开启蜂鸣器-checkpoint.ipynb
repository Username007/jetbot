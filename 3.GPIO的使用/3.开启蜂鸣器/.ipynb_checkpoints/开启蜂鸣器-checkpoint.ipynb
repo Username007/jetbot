{
 "cells": [
  {
   "cell_type": "markdown",
   "metadata": {},
   "source": [
    "<center><img src=\"../../图片数据/logo.png\" alt=\"Header\" style=\"width: 800px;\"/></center>"
   ]
  },
  {
   "cell_type": "markdown",
   "metadata": {},
   "source": [
    "@Copyright (C): 2010-2019, Shenzhen Yahboom Tech  \n",
    "@Author: Malloy.Yuan  \n",
    "@Date: 2019-07-17 10:10:02  \n",
    "@LastEditors: Malloy.Yuan  \n",
    "@LastEditTime: 2019-09-17 17:54:19  "
   ]
  },
  {
   "cell_type": "markdown",
   "metadata": {},
   "source": [
    "### 开启蜂鸣器\n",
    "每隔1秒打开或者关闭蜂鸣器"
   ]
  },
  {
   "cell_type": "code",
   "execution_count": null,
   "metadata": {},
   "outputs": [],
   "source": [
    "import RPi.GPIO as GPIO\n",
    "import time\n",
    "\n",
    "# Pin Definitions\n",
    "BEEP_pin = 6 \n",
    "\n",
    "def main():\n",
    "    # Pin Setup:\n",
    "    # Board pin-numbering scheme\n",
    "    GPIO.setmode(GPIO.BCM)\n",
    "    # set pin as an output pin with optional initial state of HIGH\n",
    "    GPIO.setup(BEEP_pin, GPIO.OUT, initial=GPIO.HIGH)\n",
    "\n",
    "    print(\"Starting demo now!\")\n",
    "    curr_value = GPIO.HIGH\n",
    "    try:\n",
    "        while True:\n",
    "            time.sleep(1)\n",
    "            # Toggle the output every second\n",
    "            print(\"Outputting {} to pin {}\".format(curr_value, BEEP_pin))\n",
    "            GPIO.output(BEEP_pin, curr_value)\n",
    "            curr_value ^= GPIO.HIGH\n",
    "    finally:\n",
    "        GPIO.cleanup()\n",
    "\n",
    "if __name__ == '__main__':\n",
    "    main()\n"
   ]
  },
  {
   "cell_type": "markdown",
   "metadata": {},
   "source": [
    "### 蜂鸣器滴鸣三次\n",
    "蜂鸣器GPIO口翻转6次(与上一个单元格单独另为一份代码)"
   ]
  },
  {
   "cell_type": "code",
   "execution_count": null,
   "metadata": {},
   "outputs": [],
   "source": [
    "import RPi.GPIO as GPIO\n",
    "import time\n",
    "\n",
    "# Pin Definitions\n",
    "BEEP_pin = 6 \n",
    "\n",
    "# Pin Setup:\n",
    "# Board pin-numbering scheme\n",
    "GPIO.setmode(GPIO.BCM)\n",
    "# set pin as an output pin with optional initial state of HIGH\n",
    "GPIO.setup(BEEP_pin, GPIO.OUT, initial=GPIO.LOW)\n",
    "\n",
    "GPIO.output(BEEP_pin, GPIO.HIGH)\n",
    "time.sleep(0.1)\n",
    "GPIO.output(BEEP_pin, GPIO.LOW)\n",
    "time.sleep(0.2)\n",
    "GPIO.output(BEEP_pin, GPIO.HIGH)\n",
    "time.sleep(0.1)\n",
    "GPIO.output(BEEP_pin, GPIO.LOW)\n",
    "time.sleep(0.2)\n",
    "GPIO.output(BEEP_pin, GPIO.HIGH)\n",
    "time.sleep(0.1)\n",
    "GPIO.output(BEEP_pin, GPIO.LOW)\n",
    "time.sleep(0.2)"
   ]
  }
 ],
 "metadata": {
  "kernelspec": {
   "display_name": "Python 3",
   "language": "python",
   "name": "python3"
  },
  "language_info": {
   "codemirror_mode": {
    "name": "ipython",
    "version": 3
   },
   "file_extension": ".py",
   "mimetype": "text/x-python",
   "name": "python",
   "nbconvert_exporter": "python",
   "pygments_lexer": "ipython3",
   "version": "3.6.8"
  }
 },
 "nbformat": 4,
 "nbformat_minor": 2
}
