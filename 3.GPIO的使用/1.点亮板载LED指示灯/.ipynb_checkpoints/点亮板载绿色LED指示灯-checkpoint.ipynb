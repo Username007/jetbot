{
 "cells": [
  {
   "cell_type": "markdown",
   "metadata": {},
   "source": [
    "<center><img src=\"../../图片数据/logo.png\" alt=\"Header\" style=\"width: 800px;\"/></center>"
   ]
  },
  {
   "cell_type": "markdown",
   "metadata": {},
   "source": [
    "@Copyright (C): 2010-2019, Shenzhen Yahboom Tech  \n",
    "@Author: Malloy.Yuan  \n",
    "@Date: 2019-07-17 10:10:02  \n",
    "@LastEditors: Malloy.Yuan  \n",
    "@LastEditTime: 2019-09-17 17:54:19  "
   ]
  },
  {
   "cell_type": "markdown",
   "metadata": {},
   "source": [
    "### 循环闪烁板载绿色LED\n",
    "从RPi.GPIO导入GPIO对象,初始化引脚对象\n",
    "将GPIO口模式设置为BCM模式,设置为输出模式,初始电平为高电平\n",
    "然后每隔0.25进入函数翻转GPIO口电平使LED闪烁"
   ]
  },
  {
   "cell_type": "code",
   "execution_count": null,
   "metadata": {},
   "outputs": [],
   "source": [
    "import RPi.GPIO as GPIO\n",
    "import time\n",
    "\n",
    "# 引脚定义\n",
    "LED2GREEN_pin = 24  # BOARD pin 12, BCM pin 18\n",
    "\n",
    "def main():\n",
    "    # Pin Setup:\n",
    "    # Board pin-numbering scheme\n",
    "    GPIO.setmode(GPIO.BCM)\n",
    "    # 将引脚设置为输出引脚，初始状态可选为高\n",
    "    GPIO.setup(LED2GREEN_pin, GPIO.OUT, initial=GPIO.HIGH)\n",
    "\n",
    "    print(\"Starting demo now!\")\n",
    "    curr_value = GPIO.HIGH\n",
    "    try:\n",
    "        while True:\n",
    "             # 每隔0.25秒钟翻转一次输出\n",
    "            time.sleep(0.25)\n",
    "            print(\"Outputting {} to pin {}\".format(curr_value, LED2GREEN_pin))\n",
    "            GPIO.output(LED2GREEN_pin, curr_value)\n",
    "            curr_value ^= GPIO.HIGH\n",
    "    finally:\n",
    "        GPIO.cleanup()\n",
    "\n",
    "if __name__ == '__main__':\n",
    "    main()"
   ]
  }
 ],
 "metadata": {
  "kernelspec": {
   "display_name": "Python 3",
   "language": "python",
   "name": "python3"
  },
  "language_info": {
   "codemirror_mode": {
    "name": "ipython",
    "version": 3
   },
   "file_extension": ".py",
   "mimetype": "text/x-python",
   "name": "python",
   "nbconvert_exporter": "python",
   "pygments_lexer": "ipython3",
   "version": "3.6.8"
  }
 },
 "nbformat": 4,
 "nbformat_minor": 2
}
