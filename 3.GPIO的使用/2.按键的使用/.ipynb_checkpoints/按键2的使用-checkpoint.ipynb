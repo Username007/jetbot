{
 "cells": [
  {
   "cell_type": "markdown",
   "metadata": {},
   "source": [
    "<center><img src=\"../../图片数据/logo.png\" alt=\"Header\" style=\"width: 800px;\"/></center>"
   ]
  },
  {
   "cell_type": "markdown",
   "metadata": {},
   "source": [
    "@Copyright (C): 2010-2019, Shenzhen Yahboom Tech  \n",
    "@Author: Malloy.Yuan  \n",
    "@Date: 2019-07-17 10:10:02  \n",
    "@LastEditors: Malloy.Yuan  \n",
    "@LastEditTime: 2019-09-17 17:54:19  "
   ]
  },
  {
   "cell_type": "markdown",
   "metadata": {},
   "source": [
    "### 按键事件检测\n",
    "当按键的状态发生变化后会使蓝色LED跟随状态变化,并打印当前按键GPIO口状态"
   ]
  },
  {
   "cell_type": "code",
   "execution_count": null,
   "metadata": {},
   "outputs": [],
   "source": [
    "#!/usr/bin/env python\n",
    "\n",
    "import RPi.GPIO as GPIO\n",
    "import time\n",
    "\n",
    "# Pin Definitons:\n",
    "led_pin = 23  # BOARD pin 23 蓝色\n",
    "but_pin = 7  # BOARD pin 7   key2\n",
    "\n",
    "def main():\n",
    "    prev_value = None\n",
    "\n",
    "    # Pin Setup:\n",
    "    GPIO.setmode(GPIO.BCM)  # BCM\n",
    "    GPIO.setup(led_pin, GPIO.OUT)  # LED pin set as output\n",
    "    GPIO.setup(but_pin, GPIO.IN)  # Button pin set as input\n",
    "\n",
    "    # Initial state for LEDs:\n",
    "    GPIO.output(led_pin, GPIO.LOW)\n",
    "    print(\"Starting demo now!\")\n",
    "    try:\n",
    "        while True:\n",
    "            curr_value = GPIO.input(but_pin)\n",
    "            if curr_value != prev_value:\n",
    "                GPIO.output(led_pin, not curr_value)\n",
    "                prev_value = curr_value\n",
    "                print(\"Outputting {} to Pin {}\".format(curr_value, led_pin))\n",
    "            time.sleep(0.2)\n",
    "    finally:\n",
    "        GPIO.cleanup()  # cleanup all GPIO\n",
    "\n",
    "if __name__ == '__main__':\n",
    "    main()\n"
   ]
  }
 ],
 "metadata": {
  "kernelspec": {
   "display_name": "Python 3",
   "language": "python",
   "name": "python3"
  },
  "language_info": {
   "codemirror_mode": {
    "name": "ipython",
    "version": 3
   },
   "file_extension": ".py",
   "mimetype": "text/x-python",
   "name": "python",
   "nbconvert_exporter": "python",
   "pygments_lexer": "ipython3",
   "version": "3.6.8"
  }
 },
 "nbformat": 4,
 "nbformat_minor": 2
}
