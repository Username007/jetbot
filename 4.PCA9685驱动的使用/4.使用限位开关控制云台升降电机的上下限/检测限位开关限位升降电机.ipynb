{
 "cells": [
  {
   "cell_type": "markdown",
   "metadata": {},
   "source": [
    "<center><img src=\"../../图片数据/logo.png\" alt=\"Header\" style=\"width: 800px;\"/></center>"
   ]
  },
  {
   "cell_type": "markdown",
   "metadata": {},
   "source": [
    "@Copyright (C): 2010-2019, Shenzhen Yahboom Tech  \n",
    "@Author: Malloy.Yuan  \n",
    "@Date: 2019-07-17 10:10:02  \n",
    "@LastEditors: Malloy.Yuan  \n",
    "@LastEditTime: 2019-09-17 17:54:19  "
   ]
  },
  {
   "cell_type": "markdown",
   "metadata": {},
   "source": [
    "### 创建机器人实例\n",
    "我们通过使用Robot对象调用我们已经包装好的电机驱动库驱动电机"
   ]
  },
  {
   "cell_type": "code",
   "execution_count": null,
   "metadata": {},
   "outputs": [],
   "source": [
    "from jetbot import Robot\n",
    "import time\n",
    "robot = Robot()"
   ]
  },
  {
   "cell_type": "markdown",
   "metadata": {},
   "source": [
    "### GPIO口初始化配置\n",
    "从RPi.GPIO导入GPIO对象,初始化引脚对象\n",
    "将限位开关的GPIO口模式设置为BCM模式,设置为输入模式"
   ]
  },
  {
   "cell_type": "code",
   "execution_count": null,
   "metadata": {},
   "outputs": [],
   "source": [
    "import RPi.GPIO as GPIO\n",
    "up_limit_pin = 17\n",
    "down_limit_pin = 18\n",
    "GPIO.setmode(GPIO.BCM)\n",
    "GPIO.setup(up_limit_pin, GPIO.IN)\n",
    "GPIO.setup(down_limit_pin, GPIO.IN)"
   ]
  },
  {
   "cell_type": "markdown",
   "metadata": {},
   "source": [
    "### 导入python线程库,初始化云台升降变量\n",
    "创建vertical_motors_action云台升降全局变量,并导入线程包监控云台升降状态"
   ]
  },
  {
   "cell_type": "code",
   "execution_count": null,
   "metadata": {},
   "outputs": [],
   "source": [
    "import threading\n",
    "global vertical_motors_action\n",
    "vertical_motors_action = 0"
   ]
  },
  {
   "cell_type": "markdown",
   "metadata": {},
   "source": [
    "### 云台升降上下限检测方法"
   ]
  },
  {
   "cell_type": "code",
   "execution_count": null,
   "metadata": {},
   "outputs": [],
   "source": [
    "def limit_detect():\n",
    "    global vertical_motors_action\n",
    "    while 1:\n",
    "        if vertical_motors_action == 1:\n",
    "            if GPIO.input(up_limit_pin) == 0:\n",
    "                robot.vertical_motors_stop()\n",
    "                vertical_motors_action = 0\n",
    "                print('云台到顶')\n",
    "        elif vertical_motors_action == 2:\n",
    "            if GPIO.input(down_limit_pin) == 0:\n",
    "                robot.vertical_motors_stop()\n",
    "                vertical_motors_action = 0\n",
    "                print('云台到底')\n",
    "        time.sleep(0.5)"
   ]
  },
  {
   "cell_type": "markdown",
   "metadata": {},
   "source": [
    "### 新建并开启监控云台上下限的线程"
   ]
  },
  {
   "cell_type": "code",
   "execution_count": null,
   "metadata": {},
   "outputs": [],
   "source": [
    "thread1 = threading.Thread(target=limit_detect)\n",
    "# thread1.setDaemon(True)\n",
    "thread1.start()"
   ]
  },
  {
   "cell_type": "markdown",
   "metadata": {},
   "source": [
    "### 云台上升的方法"
   ]
  },
  {
   "cell_type": "code",
   "execution_count": null,
   "metadata": {},
   "outputs": [],
   "source": [
    "vertical_motors_action = 1\n",
    "if(GPIO.input(up_limit_pin)):\n",
    "    robot.up(1)\n",
    "    print('cameraup')\n",
    "else:\n",
    "    print('云台到顶')\n",
    "    robot.vertical_motors_stop()\n",
    "    vertical_motors_action = 0"
   ]
  },
  {
   "cell_type": "markdown",
   "metadata": {},
   "source": [
    "### 云台下降的方法"
   ]
  },
  {
   "cell_type": "code",
   "execution_count": null,
   "metadata": {},
   "outputs": [],
   "source": [
    "vertical_motors_action = 2\n",
    "if(GPIO.input(down_limit_pin)):\n",
    "    robot.down(1)\n",
    "    print('cameradown')\n",
    "else:\n",
    "    print('云台到底')\n",
    "    robot.vertical_motors_stop()\n",
    "    vertical_motors_action = 0"
   ]
  },
  {
   "cell_type": "markdown",
   "metadata": {},
   "source": [
    "### 云台停止的方法"
   ]
  },
  {
   "cell_type": "code",
   "execution_count": null,
   "metadata": {},
   "outputs": [],
   "source": [
    "robot.vertical_motors_stop()\n",
    "vertical_motors_action = 0\n",
    "print('camerastop')"
   ]
  }
 ],
 "metadata": {
  "kernelspec": {
   "display_name": "Python 3",
   "language": "python",
   "name": "python3"
  },
  "language_info": {
   "codemirror_mode": {
    "name": "ipython",
    "version": 3
   },
   "file_extension": ".py",
   "mimetype": "text/x-python",
   "name": "python",
   "nbconvert_exporter": "python",
   "pygments_lexer": "ipython3",
   "version": "3.6.8"
  }
 },
 "nbformat": 4,
 "nbformat_minor": 2
}
