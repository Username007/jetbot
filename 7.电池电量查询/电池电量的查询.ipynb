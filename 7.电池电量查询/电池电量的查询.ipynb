{
 "cells": [
  {
   "cell_type": "markdown",
   "metadata": {},
   "source": [
    "<center><img src=\"../图片数据/logo.png\" alt=\"Header\" style=\"width: 800px;\"/></center>"
   ]
  },
  {
   "cell_type": "markdown",
   "metadata": {},
   "source": [
    "@Copyright (C): 2010-2019, Shenzhen Yahboom Tech  \n",
    "@Author: Malloy.Yuan  \n",
    "@Date: 2019-07-17 10:10:02  \n",
    "@LastEditors: Malloy.Yuan  \n",
    "@LastEditTime: 2019-09-17 17:54:19  "
   ]
  },
  {
   "cell_type": "markdown",
   "metadata": {},
   "source": [
    "### 导入相关驱动库"
   ]
  },
  {
   "cell_type": "code",
   "execution_count": 1,
   "metadata": {},
   "outputs": [],
   "source": [
    "import time\n",
    "import Adafruit_SSD1306\n",
    "from PIL import Image\n",
    "from PIL import ImageDraw\n",
    "from PIL import ImageFont\n",
    "from jetbot.utils.utils import get_ip_address\n",
    "import subprocess\n",
    "from Battery_Vol_Lib import BatteryLevel"
   ]
  },
  {
   "cell_type": "markdown",
   "metadata": {},
   "source": [
    "### 初始化SSD1306"
   ]
  },
  {
   "cell_type": "code",
   "execution_count": 2,
   "metadata": {},
   "outputs": [],
   "source": [
    "# 128x32 显示与硬件I2C:\n",
    "disp = Adafruit_SSD1306.SSD1306_128_32(rst=None, i2c_bus=0, gpio=1) # 将gpio设置hack为1，以避免平台检测\n",
    "# 初始化库。\n",
    "disp.begin()\n",
    "# 清除显示\n",
    "disp.clear()\n",
    "disp.display()\n",
    "# 为绘图创建空白图像\n",
    "# 确保创建带有模式为'1'即1位颜色的图像\n",
    "width = disp.width\n",
    "height = disp.height\n",
    "image = Image.new('1', (width, height))\n",
    "# 获取要在图像上绘制的绘图对象\n",
    "draw = ImageDraw.Draw(image)\n",
    "# 画一个黑色填充框来清除图像\n",
    "draw.rectangle((0,0,width,height), outline=0, fill=0)\n",
    "# 画一些形状\n",
    "# 首先定义一些常量，以方便调整形状的大小\n",
    "padding = -2\n",
    "top = padding\n",
    "bottom = height-padding\n",
    "# 从左到右移动，以跟踪绘图图形的当前x位置。\n",
    "x = 0\n",
    "# 加载默认字体\n",
    "font = ImageFont.load_default()\n",
    "# 创建电池电量查询对象\n",
    "BatteryLevel = BatteryLevel()"
   ]
  },
  {
   "cell_type": "markdown",
   "metadata": {},
   "source": [
    "### 每隔一秒循环刷新信息显示到OLED屏\n",
    "这里在OLED例程的基础上加了捕获电量信息显示在屏幕在OLED屏幕的右下角\n",
    "其中:\n",
    "    B:H 代表高电量\n",
    "    B:M 代表中电量\n",
    "    B:L 代表低电量\n",
    "    B:E 代表空电量"
   ]
  },
  {
   "cell_type": "code",
   "execution_count": null,
   "metadata": {},
   "outputs": [
    {
     "name": "stdout",
     "output_type": "stream",
     "text": [
      "11.453861192570871\n",
      "Battery_Medium\n",
      "11.49286412512219\n",
      "Battery_Medium\n",
      "11.453861192570871\n",
      "Battery_Medium\n",
      "11.49286412512219\n",
      "Battery_Medium\n",
      "11.466862170087976\n",
      "Battery_Medium\n",
      "11.427859237536657\n",
      "Battery_Medium\n",
      "11.518866080156403\n",
      "Battery_Medium\n",
      "11.479863147605084\n",
      "Battery_Medium\n",
      "11.570869990224828\n",
      "Battery_Medium\n",
      "11.466862170087976\n",
      "Battery_Medium\n",
      "11.557869012707723\n",
      "Battery_Medium\n",
      "11.49286412512219\n",
      "Battery_Medium\n",
      "11.466862170087976\n",
      "Battery_Medium\n"
     ]
    }
   ],
   "source": [
    "while True:\n",
    "    # 画一个黑色填充框来清除图像。\n",
    "    draw.rectangle((0,0,width,height), outline=0, fill=0)\n",
    "\n",
    "    # 从这个链接可以获取系统监视的Shell脚本 : https://unix.stackexchange.com/questions/119126/command-to-display-memory-usage-disk-usage-and-cpu-load\n",
    "    cmd = \"top -bn1 | grep load | awk '{printf \\\"CPU Load: %.2f\\\", $(NF-2)}'\"\n",
    "    CPU = subprocess.check_output(cmd, shell = True )\n",
    "    cmd = \"free -m | awk 'NR==2{printf \\\"Mem:%s/%sM %.2f%%\\\", $3,$2,$3*100/$2 }'\"\n",
    "    MemUsage = subprocess.check_output(cmd, shell = True )\n",
    "    cmd = \"df -h | awk '$NF==\\\"/\\\"{printf \\\"Disk:%d/%dGB %s\\\", $3,$2,$5}'\"\n",
    "    Disk = subprocess.check_output(cmd, shell = True )\n",
    "\n",
    "    draw.text((x, top),       \"eth0:\" + str(get_ip_address('eth0')),  font=font, fill=255)\n",
    "    draw.text((x, top+8),     \"wlan0:\" + str(get_ip_address('wlan0')), font=font, fill=255)\n",
    "    draw.text((x, top + 16), str(MemUsage.decode('utf-8')), font=font, fill=255)\n",
    "    \n",
    "    #通过调用电池电量驱动获取电量\n",
    "    temp = BatteryLevel.Update()\n",
    "    if temp == 'Battery_High':\n",
    "        draw.text((x, top+25),    str(Disk.decode('utf-8')) + \"  B:H\",  font=font, fill=255)\n",
    "        print('Battery_High')\n",
    "    elif temp == 'Battery_Medium':\n",
    "        draw.text((x, top+25),    str(Disk.decode('utf-8')) + \"  B:M\",  font=font, fill=255)\n",
    "        print('Battery_Medium')\n",
    "    elif temp =='Battery_Low':\n",
    "        draw.text((x, top+25),    str(Disk.decode('utf-8')) + \"  B:L\",  font=font, fill=255)\n",
    "        print('Battery_Low')\n",
    "    elif temp == 'Battery_Empty':\n",
    "        draw.text((x, top+25),    str(Disk.decode('utf-8')) + \"  B:E\",  font=font, fill=255)\n",
    "        print('Battery_Empty')\n",
    "    # draw.text((x, top+25),    str(Disk.decode('utf-8')),  font=font, fill=255)\n",
    "\n",
    "    # 显示图像\n",
    "    disp.image(image)\n",
    "    disp.display()\n",
    "    time.sleep(1)"
   ]
  },
  {
   "cell_type": "code",
   "execution_count": null,
   "metadata": {},
   "outputs": [],
   "source": []
  }
 ],
 "metadata": {
  "kernelspec": {
   "display_name": "Python 3",
   "language": "python",
   "name": "python3"
  },
  "language_info": {
   "codemirror_mode": {
    "name": "ipython",
    "version": 3
   },
   "file_extension": ".py",
   "mimetype": "text/x-python",
   "name": "python",
   "nbconvert_exporter": "python",
   "pygments_lexer": "ipython3",
   "version": "3.6.9"
  }
 },
 "nbformat": 4,
 "nbformat_minor": 4
}
