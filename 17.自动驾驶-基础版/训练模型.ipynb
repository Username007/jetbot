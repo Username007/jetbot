{
 "cells": [
  {
   "cell_type": "markdown",
   "metadata": {},
   "source": [
    "<center><img src=\"../图片数据/logo.png\" alt=\"Header\" style=\"width: 800px;\"/></center>"
   ]
  },
  {
   "cell_type": "markdown",
   "metadata": {},
   "source": [
    "@Copyright (C): 2010-2019, Shenzhen Yahboom Tech  \n",
    "@Author: Malloy.Yuan  \n",
    "@Date: 2019-07-17 10:10:02  \n",
    "@LastEditors: Malloy.Yuan  \n",
    "@LastEditTime: 2019-09-17 17:54:19  "
   ]
  },
  {
   "cell_type": "markdown",
   "metadata": {},
   "source": [
    "# 自动驾驶 - 训练模型\n",
    "\n",
    "在这个笔记本中，我们将训练一个神经网络获取一个输入图像，并输出一组x, y值对应于一个目标。\n",
    "我们将使用之前课程我们用过的PyTorch深度学习框架来训练ResNet18神经网络结构模型，用于识别道路路况从而实现自动驾驶。"
   ]
  },
  {
   "cell_type": "code",
   "execution_count": 1,
   "metadata": {},
   "outputs": [],
   "source": [
    "import torch\n",
    "import torch.optim as optim\n",
    "import torch.nn.functional as F\n",
    "import torchvision\n",
    "import torchvision.datasets as datasets\n",
    "import torchvision.models as models\n",
    "import torchvision.transforms as transforms\n",
    "import glob\n",
    "import PIL.Image\n",
    "import os\n",
    "import numpy as np"
   ]
  },
  {
   "cell_type": "markdown",
   "metadata": {},
   "source": [
    "### 下载和提取数据\n",
    "> # 如果你是在收集数据的JetBot进行培训，可以跳过此步骤!"
   ]
  },
  {
   "cell_type": "code",
   "execution_count": 2,
   "metadata": {},
   "outputs": [
    {
     "name": "stdout",
     "output_type": "stream",
     "text": [
      "unzip:  cannot find or open road_following.zip, road_following.zip.zip or road_following.zip.ZIP.\n"
     ]
    }
   ],
   "source": [
    "!unzip -q road_following.zip"
   ]
  },
  {
   "cell_type": "markdown",
   "metadata": {},
   "source": [
    "解压缩完后你就可以看到一个名为' ' dataset_xy ' '的文件夹出现在文件浏览器中。"
   ]
  },
  {
   "cell_type": "markdown",
   "metadata": {},
   "source": [
    "### 创建数据库实例\n",
    "\n",
    "在这里，我们创建一个自定义的``torch.utils.data.Dataset``，它实现了``__len__``和``__getitem__`` 函数。该类负责加载图像并解析图像文件名中的x、y值。因为我们实现了``torch.utils.data.Dataset``类，我们可以使用所有的torch数据实用工具\n",
    "\n",
    "我们在数据集中硬编码了一些转换(比如颜色抖动)。我们将随机水平翻转设置为可选的(如果您想遵循非对称路径，比如道路)\n",
    "\n",
    "Jetbot是否遵循某种约定无关紧要，你可以启用flips来扩充数据集。"
   ]
  },
  {
   "cell_type": "code",
   "execution_count": 2,
   "metadata": {},
   "outputs": [],
   "source": [
    "def get_x(path):\n",
    "    \"\"\"Gets the x value from the image filename\"\"\"\n",
    "    return (float(int(path[3:6])) - 50.0) / 50.0\n",
    "\n",
    "def get_y(path):\n",
    "    \"\"\"Gets the y value from the image filename\"\"\"\n",
    "    return (float(int(path[7:10])) - 50.0) / 50.0\n",
    "\n",
    "class XYDataset(torch.utils.data.Dataset):\n",
    "    \n",
    "    def __init__(self, directory, random_hflips=False):\n",
    "        self.directory = directory\n",
    "        self.random_hflips = random_hflips\n",
    "        self.image_paths = glob.glob(os.path.join(self.directory, '*.jpg'))\n",
    "        self.color_jitter = transforms.ColorJitter(0.3, 0.3, 0.3, 0.3)\n",
    "    \n",
    "    def __len__(self):\n",
    "        return len(self.image_paths)\n",
    "    \n",
    "    def __getitem__(self, idx):\n",
    "        image_path = self.image_paths[idx]\n",
    "        \n",
    "        image = PIL.Image.open(image_path)\n",
    "        x = float(get_x(os.path.basename(image_path)))\n",
    "        y = float(get_y(os.path.basename(image_path)))\n",
    "        \n",
    "        if float(np.random.rand(1)) > 0.5:\n",
    "            image = transforms.functional.hflip(image)\n",
    "            x = -x\n",
    "        \n",
    "        image = self.color_jitter(image)\n",
    "        image = transforms.functional.resize(image, (224, 224))\n",
    "        image = transforms.functional.to_tensor(image)\n",
    "        image = image.numpy()[::-1].copy()\n",
    "        image = torch.from_numpy(image)\n",
    "        image = transforms.functional.normalize(image, [0.485, 0.456, 0.406], [0.229, 0.224, 0.225])\n",
    "        \n",
    "        return image, torch.tensor([x, y]).float()\n",
    "    \n",
    "dataset = XYDataset('dataset_xy', random_hflips=False)"
   ]
  },
  {
   "cell_type": "markdown",
   "metadata": {},
   "source": [
    "### 将数据集分割为训练集和测试集\n",
    "一旦我们读取dataset，我们将分割训练集和测试集中的数据集。在这个例子中，我们分割训练并测试了90%-10%。测试集将用于验证我们训练的模型的准确性。"
   ]
  },
  {
   "cell_type": "code",
   "execution_count": 3,
   "metadata": {},
   "outputs": [],
   "source": [
    "test_percent = 0.1\n",
    "num_test = int(test_percent * len(dataset))\n",
    "train_dataset, test_dataset = torch.utils.data.random_split(dataset, [len(dataset) - num_test, num_test])"
   ]
  },
  {
   "cell_type": "markdown",
   "metadata": {},
   "source": [
    "### 创建数据加载器来批量加载数据\n",
    "\n",
    "我们使用``DataLoader`` 类批量加载数据，洗牌数据，并允许使用多个子进程。在本例中，我们使用数据批量的大小为64。批量大小将基于内存可用的GPU，它可以影响模型的准确性。"
   ]
  },
  {
   "cell_type": "code",
   "execution_count": 4,
   "metadata": {},
   "outputs": [],
   "source": [
    "# 训练集\n",
    "train_loader = torch.utils.data.DataLoader(\n",
    "    train_dataset,\n",
    "    batch_size=16,\n",
    "    shuffle=True,\n",
    "    num_workers=4\n",
    ")\n",
    "\n",
    "# 测试集\n",
    "test_loader = torch.utils.data.DataLoader(\n",
    "    test_dataset,\n",
    "    batch_size=16,\n",
    "    shuffle=True,\n",
    "    num_workers=4\n",
    ")"
   ]
  },
  {
   "cell_type": "markdown",
   "metadata": {},
   "source": [
    "### 定义神经网络模型\n",
    "\n",
    "我们使用的ResNet-18模型基于PyTorch TorchVision\n",
    "\n",
    "在一个叫做“转移学习”的过程中，我们可以将一个预先训练好的模型(对数百万张图像进行训练)重新用于一个可能可用数据少得多的新任务。\n",
    "\n",
    "\n",
    "更多信息请访问ResNet-18 : https://github.com/pytorch/vision/blob/master/torchvision/models/resnet.py\n",
    "\n",
    "更多关于转移学习的细节(需要科学上网): https://www.youtube.com/watch?v=yofjFQddwHE "
   ]
  },
  {
   "cell_type": "code",
   "execution_count": 5,
   "metadata": {},
   "outputs": [],
   "source": [
    "model = models.resnet18(pretrained=True)"
   ]
  },
  {
   "cell_type": "markdown",
   "metadata": {},
   "source": [
    "ResNet模型已完全连接(fc)的最终层与512作为``in_features``，我们将训练回归，因此``out_features``作为1\n",
    "最后，我们将模型转移到GPU上执行"
   ]
  },
  {
   "cell_type": "code",
   "execution_count": 6,
   "metadata": {},
   "outputs": [],
   "source": [
    "model.fc = torch.nn.Linear(512, 2)\n",
    "device = torch.device('cuda')\n",
    "model = model.to(device)"
   ]
  },
  {
   "cell_type": "markdown",
   "metadata": {},
   "source": [
    "# 训练回归:\n",
    "\n",
    "我们训练了50个时代，如果有减少损失的情况发生，我们将保存最好的模型"
   ]
  },
  {
   "cell_type": "code",
   "execution_count": 8,
   "metadata": {},
   "outputs": [
    {
     "name": "stdout",
     "output_type": "stream",
     "text": [
      "0.544970, 3.651376\n",
      "0.088068, 0.169535\n",
      "0.062952, 0.034400\n",
      "0.049862, 0.034597\n",
      "0.055779, 0.036900\n",
      "0.057886, 0.048758\n",
      "0.071376, 0.042621\n",
      "0.052172, 0.031273\n",
      "0.039976, 0.061003\n",
      "0.037931, 0.026045\n",
      "0.038363, 0.020805\n",
      "0.038004, 0.041419\n",
      "0.035423, 0.036283\n",
      "0.030175, 0.030550\n",
      "0.021355, 0.024294\n",
      "0.024161, 0.022808\n",
      "0.024430, 0.026140\n",
      "0.017203, 0.025462\n",
      "0.029596, 0.040448\n",
      "0.042377, 0.021260\n",
      "0.019568, 0.031149\n",
      "0.023091, 0.019387\n",
      "0.017774, 0.025148\n",
      "0.016173, 0.014898\n",
      "0.013801, 0.020950\n",
      "0.015183, 0.035344\n",
      "0.013042, 0.039140\n",
      "0.017469, 0.023747\n",
      "0.015105, 0.018639\n",
      "0.015640, 0.023210\n",
      "0.015208, 0.018512\n",
      "0.011829, 0.030874\n",
      "0.010877, 0.025850\n",
      "0.010102, 0.017982\n",
      "0.006594, 0.013910\n",
      "0.011680, 0.016981\n",
      "0.009049, 0.015714\n",
      "0.010550, 0.021401\n",
      "0.010959, 0.020556\n",
      "0.008792, 0.020666\n",
      "0.009763, 0.014473\n",
      "0.004890, 0.016996\n",
      "0.005998, 0.021897\n",
      "0.006425, 0.015689\n",
      "0.005650, 0.019380\n",
      "0.006126, 0.016612\n",
      "0.005840, 0.014683\n",
      "0.003966, 0.013447\n",
      "0.007644, 0.024917\n",
      "0.004660, 0.014502\n"
     ]
    }
   ],
   "source": [
    "# NUM_EPOCHS = 70\n",
    "NUM_EPOCHS = 50\n",
    "BEST_MODEL_PATH = 'best_steering_model_xy.pth'\n",
    "best_loss = 1e9\n",
    "\n",
    "optimizer = optim.Adam(model.parameters())\n",
    "\n",
    "for epoch in range(NUM_EPOCHS):\n",
    "    \n",
    "    model.train()\n",
    "    train_loss = 0.0\n",
    "    for images, labels in iter(train_loader):\n",
    "        images = images.to(device)\n",
    "        labels = labels.to(device)\n",
    "        optimizer.zero_grad()\n",
    "        outputs = model(images)\n",
    "        loss = F.mse_loss(outputs, labels)\n",
    "        train_loss += float(loss)\n",
    "        loss.backward()\n",
    "        optimizer.step()\n",
    "    train_loss /= len(train_loader)\n",
    "    \n",
    "    model.eval()\n",
    "    test_loss = 0.0\n",
    "    for images, labels in iter(test_loader):\n",
    "        images = images.to(device)\n",
    "        labels = labels.to(device)\n",
    "        outputs = model(images)\n",
    "        loss = F.mse_loss(outputs, labels)\n",
    "        test_loss += float(loss)\n",
    "    test_loss /= len(test_loader)\n",
    "    \n",
    "    print('%f, %f' % (train_loss, test_loss))\n",
    "    if test_loss < best_loss:\n",
    "        torch.save(model.state_dict(), BEST_MODEL_PATH)\n",
    "        best_loss = test_loss"
   ]
  },
  {
   "cell_type": "markdown",
   "metadata": {},
   "source": [
    "一旦模型训练完成，它将生成``best_steering_model_xy.pth`` 文件，我们将在自动驾驶例程中使用该模型进行推理."
   ]
  }
 ],
 "metadata": {
  "kernelspec": {
   "display_name": "Python 3",
   "language": "python",
   "name": "python3"
  },
  "language_info": {
   "codemirror_mode": {
    "name": "ipython",
    "version": 3
   },
   "file_extension": ".py",
   "mimetype": "text/x-python",
   "name": "python",
   "nbconvert_exporter": "python",
   "pygments_lexer": "ipython3",
   "version": "3.6.9"
  }
 },
 "nbformat": 4,
 "nbformat_minor": 4
}
