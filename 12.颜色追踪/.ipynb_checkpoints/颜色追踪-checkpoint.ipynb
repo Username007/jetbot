{
 "cells": [
  {
   "cell_type": "markdown",
   "metadata": {},
   "source": [
    "<center><img src=\"../图片数据/logo.png\" alt=\"Header\" style=\"width: 800px;\"/></center>"
   ]
  },
  {
   "cell_type": "markdown",
   "metadata": {},
   "source": [
    "@Copyright (C): 2010-2019, Shenzhen Yahboom Tech  \n",
    "@Author: Malloy.Yuan  \n",
    "@Date: 2019-07-17 10:10:02  \n",
    "@LastEditors: Malloy.Yuan  \n",
    "@LastEditTime: 2019-09-17 17:54:19  "
   ]
  },
  {
   "cell_type": "markdown",
   "metadata": {},
   "source": [
    "## 导入相关包，创建相机实例"
   ]
  },
  {
   "cell_type": "code",
   "execution_count": null,
   "metadata": {},
   "outputs": [],
   "source": [
    "from jetbot import Camera\n",
    "from jetbot import bgr8_to_jpeg\n",
    "import PID\n",
    "camera = Camera.instance(width=720, height=720)"
   ]
  },
  {
   "cell_type": "markdown",
   "metadata": {},
   "source": [
    "## 创建相关控制变量"
   ]
  },
  {
   "cell_type": "code",
   "execution_count": null,
   "metadata": {},
   "outputs": [],
   "source": [
    "global color_x, color_y, color_radius\n",
    "color_x = color_y = color_radius = 0\n",
    "global target_valuex\n",
    "target_valuex = 2100\n",
    "global target_valuey\n",
    "target_valuey = 2048"
   ]
  },
  {
   "cell_type": "markdown",
   "metadata": {},
   "source": [
    "## 创建存储HSV色域颜色分类数据的数组"
   ]
  },
  {
   "cell_type": "code",
   "execution_count": null,
   "metadata": {},
   "outputs": [],
   "source": [
    "import numpy as np\n",
    "global color_lower\n",
    "color_lower=np.array([156,43,46])\n",
    "global color_upperv\n",
    "color_upper = np.array([180, 255, 255])"
   ]
  },
  {
   "cell_type": "markdown",
   "metadata": {},
   "source": [
    "## 创建PID控制实例"
   ]
  },
  {
   "cell_type": "code",
   "execution_count": null,
   "metadata": {},
   "outputs": [],
   "source": [
    "xservo_pid = PID.PositionalPID(1.9, 0.3, 0.35)\n",
    "yservo_pid = PID.PositionalPID(1.5, 0.2, 0.3)"
   ]
  },
  {
   "cell_type": "markdown",
   "metadata": {},
   "source": [
    "## 创建云台总线舵机实例"
   ]
  },
  {
   "cell_type": "code",
   "execution_count": null,
   "metadata": {},
   "outputs": [],
   "source": [
    "from servoserial import ServoSerial\n",
    "servo_device = ServoSerial() "
   ]
  },
  {
   "cell_type": "markdown",
   "metadata": {},
   "source": [
    "## 创建显示控件"
   ]
  },
  {
   "cell_type": "code",
   "execution_count": null,
   "metadata": {},
   "outputs": [],
   "source": [
    "import cv2\n",
    "import traitlets\n",
    "import ipywidgets.widgets as widgets\n",
    "from IPython.display import display\n",
    "color_image = widgets.Image(format='jpeg', width=300, height=300)\n",
    "display(color_image)"
   ]
  },
  {
   "cell_type": "markdown",
   "metadata": {},
   "source": [
    "### 颜色识别默认数组数据"
   ]
  },
  {
   "cell_type": "code",
   "execution_count": null,
   "metadata": {},
   "outputs": [],
   "source": [
    "color_lower=np.array([156,43,46])\n",
    "color_upper = np.array([180, 255, 255])\n",
    "target_valuex = target_valuey = 2048\n",
    "servo_device.Servo_serial_double_control(1, 2048, 2, 2048)"
   ]
  },
  {
   "cell_type": "markdown",
   "metadata": {},
   "source": [
    "### 设置识别红色数组数据"
   ]
  },
  {
   "cell_type": "code",
   "execution_count": null,
   "metadata": {},
   "outputs": [],
   "source": [
    "color_lower=np.array([0,43,46])\n",
    "color_upper = np.array([10, 255, 255])\n",
    "target_valuex = target_valuey = 2048\n",
    "servo_device.Servo_serial_double_control(1, 2048, 2, 2048)"
   ]
  },
  {
   "cell_type": "markdown",
   "metadata": {},
   "source": [
    "### 设置识别黄色数组数据"
   ]
  },
  {
   "cell_type": "code",
   "execution_count": null,
   "metadata": {},
   "outputs": [],
   "source": [
    "color_lower=np.array([26,43,46])\n",
    "color_upper = np.array([34, 255, 255])\n",
    "target_valuex = 2100\n",
    "target_valuey = 2048\n",
    "servo_device.Servo_serial_double_control(1, 2048, 2, 2048)"
   ]
  },
  {
   "cell_type": "markdown",
   "metadata": {},
   "source": [
    "### 设置识别蓝色数组数据"
   ]
  },
  {
   "cell_type": "code",
   "execution_count": null,
   "metadata": {},
   "outputs": [],
   "source": [
    "color_lower=np.array([100,43,46])\n",
    "color_upper = np.array([124, 255, 255])\n",
    "target_valuex = 2100\n",
    "target_valuey = 2048\n",
    "servo_device.Servo_serial_double_control(1, 2048, 2, 2048)"
   ]
  },
  {
   "cell_type": "markdown",
   "metadata": {},
   "source": [
    "### 设置识别绿色数组数据"
   ]
  },
  {
   "cell_type": "code",
   "execution_count": null,
   "metadata": {},
   "outputs": [],
   "source": [
    "color_lower=np.array([35,43,46])\n",
    "color_upper = np.array([77, 255, 255])\n",
    "target_valuex = 2100\n",
    "target_valuey = 2048\n",
    "servo_device.Servo_serial_double_control(1, 2048, 2, 2048)"
   ]
  },
  {
   "cell_type": "markdown",
   "metadata": {},
   "source": [
    "### 设置识别橙色数组数据"
   ]
  },
  {
   "cell_type": "code",
   "execution_count": null,
   "metadata": {},
   "outputs": [],
   "source": [
    "color_lower=np.array([11,43,46])\n",
    "color_upper = np.array([25, 255, 255])\n",
    "target_valuex = 2100\n",
    "target_valuey = 2048\n",
    "servo_device.Servo_serial_double_control(1, 2048, 2, 2048)"
   ]
  },
  {
   "cell_type": "markdown",
   "metadata": {},
   "source": [
    "## 云台运动主进程"
   ]
  },
  {
   "cell_type": "code",
   "execution_count": null,
   "metadata": {},
   "outputs": [],
   "source": [
    "while 1:\n",
    "    frame = camera.value\n",
    "    frame = cv2.resize(frame, (300, 300))\n",
    "    frame_=cv2.GaussianBlur(frame,(5,5),0)                    \n",
    "    hsv=cv2.cvtColor(frame,cv2.COLOR_BGR2HSV)\n",
    "    mask=cv2.inRange(hsv,color_lower,color_upper)  \n",
    "    mask=cv2.erode(mask,None,iterations=2)\n",
    "    mask=cv2.dilate(mask,None,iterations=2)\n",
    "    mask=cv2.GaussianBlur(mask,(3,3),0)     \n",
    "    cnts=cv2.findContours(mask.copy(),cv2.RETR_EXTERNAL,cv2.CHAIN_APPROX_SIMPLE)[-2] \n",
    "    if len(cnts)>0:\n",
    "        cnt = max (cnts,key=cv2.contourArea)\n",
    "        (color_x,color_y),color_radius=cv2.minEnclosingCircle(cnt)\n",
    "        if color_radius > 10:\n",
    "            # 将检测到的颜色标记出来\n",
    "            cv2.circle(frame,(int(color_x),int(color_y)),int(color_radius),(255,0,255),2)  \n",
    "            #Proportion-Integration-Differentiation\n",
    "            xservo_pid.SystemOutput = color_x\n",
    "            xservo_pid.SetStepSignal(150)\n",
    "            xservo_pid.SetInertiaTime(0.01, 0.006)\n",
    "            target_valuex = int(2100+xservo_pid.SystemOutput)\n",
    "            # 输入Y轴方向参数PID控制输入\n",
    "            yservo_pid.SystemOutput = color_y\n",
    "            yservo_pid.SetStepSignal(150)\n",
    "            yservo_pid.SetInertiaTime(0.01, 0.006)\n",
    "            target_valuey = int(2048+yservo_pid.SystemOutput)\n",
    "             # 将云台转动至PID调校位置\n",
    "            servo_device.Servo_serial_double_control( 1, target_valuex, 2, target_valuey)\n",
    "     # 实时传回图像数据进行显示\n",
    "    color_image.value = bgr8_to_jpeg(frame)"
   ]
  },
  {
   "cell_type": "code",
   "execution_count": null,
   "metadata": {},
   "outputs": [],
   "source": []
  }
 ],
 "metadata": {
  "kernelspec": {
   "display_name": "Python 3",
   "language": "python",
   "name": "python3"
  },
  "language_info": {
   "codemirror_mode": {
    "name": "ipython",
    "version": 3
   },
   "file_extension": ".py",
   "mimetype": "text/x-python",
   "name": "python",
   "nbconvert_exporter": "python",
   "pygments_lexer": "ipython3",
   "version": "3.6.9"
  }
 },
 "nbformat": 4,
 "nbformat_minor": 4
}
